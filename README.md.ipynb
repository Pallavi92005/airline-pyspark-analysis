{
 "cells": [
  {
   "cell_type": "code",
   "execution_count": null,
   "id": "e5c87749-7405-4a23-899c-19bc4ec4446b",
   "metadata": {},
   "outputs": [],
   "source": [
    "# ✈️ Airline Passenger Satisfaction Analysis using PySpark\n",
    "\n",
    "This project uses **PySpark** to perform big data processing and analysis on the **Airline Passenger Satisfaction Dataset**.\n",
    "\n",
    "It demonstrates how PySpark can handle structured datasets in a scalable and efficient way using common transformation and aggregation operations.\n",
    "\n",
    "---\n",
    "\n",
    "## 📊 Dataset\n",
    "\n",
    "- **Source**: [Kaggle – Airline Passenger Satisfaction Dataset](https://www.kaggle.com/datasets/teejmahal20/airline-passenger-satisfaction)\n",
    "- **File Name**: `airline_passenger_satisfaction.csv`\n",
    "- **Note**: You must download and place the dataset in the same folder as this notebook/script. Do **not** upload it to GitHub.\n",
    "\n",
    "---\n",
    "\n",
    "## 🔍 Insights Generated\n",
    "\n",
    "- ✅ Total number of flights per airline  \n",
    "- ✅ Average departure delay (in minutes) by airline  \n",
    "- ✅ Cancellation rate for each airline  \n",
    "- ✅ Average flight distance by airline  \n",
    "- ✅ Number of flights from each origin airport  \n",
    "\n",
    "---\n",
    "\n",
    "## 🛠️ Requirements\n",
    "\n",
    "- Python 3.x  \n",
    "- PySpark  \n",
    "- Jupyter Notebook (optional but recommended)\n",
    "\n",
    "### Install dependencies:\n",
    "\n",
    "```bash\n",
    "pip install pyspark notebook\n"
   ]
  },
  {
   "cell_type": "code",
   "execution_count": null,
   "id": "6593b96e-d63f-4626-b744-3c841e8a0d7b",
   "metadata": {},
   "outputs": [],
   "source": []
  }
 ],
 "metadata": {
  "kernelspec": {
   "display_name": "",
   "name": ""
  },
  "language_info": {
   "name": ""
  }
 },
 "nbformat": 4,
 "nbformat_minor": 5
}
