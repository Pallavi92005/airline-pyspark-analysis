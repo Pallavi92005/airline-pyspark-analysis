{
 "cells": [
  {
   "cell_type": "code",
   "execution_count": null,
   "id": "5e80ddef-659c-45bf-affc-04568db98a22",
   "metadata": {},
   "outputs": [],
   "source": [
    "# Step 1: Start Spark Session\n",
    "from pyspark.sql import SparkSession\n",
    "from pyspark.sql.functions import col, count, sum, avg, round\n",
    "\n",
    "spark = SparkSession.builder.appName(\"Airline_PySpark_Analysis\").getOrCreate()\n",
    "\n",
    "# Step 2: Load the dataset\n",
    "# Make sure 'airline_passenger_satisfaction.csv' is in the same folder\n",
    "df = spark.read.option(\"header\", True).option(\"inferSchema\", True).csv(\"airline_passenger_satisfaction.csv\")\n",
    "\n",
    "# Step 3: View schema and sample rows\n",
    "df.printSchema()\n",
    "df.show(5)\n",
    "\n",
    "# Step 4: Total number of flights per airline\n",
    "flights_per_airline = df.groupBy(\"Airline Name\").count().orderBy(col(\"count\").desc())\n",
    "flights_per_airline.show()\n",
    "\n",
    "# Step 5: Average departure delay per airline\n",
    "avg_dep_delay = df.groupBy(\"Airline Name\").agg(\n",
    "    round(avg(\"Departure Delay in Minutes\"), 2).alias(\"Avg_Departure_Delay\")\n",
    ").orderBy(\"Avg_Departure_Delay\", ascending=False)\n",
    "avg_dep_delay.show()\n",
    "\n",
    "# Step 6: Cancellation rate per airline\n",
    "cancel_rate = df.groupBy(\"Airline Name\").agg(\n",
    "    count(\"*\").alias(\"Total_Flights\"),\n",
    "    sum((col(\"Flight cancelled\") == \"Yes\").cast(\"int\")).alias(\"Cancelled_Flights\")\n",
    ").withColumn(\"Cancellation_Rate(%)\", round((col(\"Cancelled_Flights\") / col(\"Total_Flights\")) * 100, 2))\n",
    "cancel_rate.orderBy(\"Cancellation_Rate(%)\", ascending=False).show()\n",
    "\n",
    "# Step 7: Average flight distance per airline\n",
    "avg_distance = df.groupBy(\"Airline Name\").agg(\n",
    "    round(avg(\"Flight Distance\"), 2).alias(\"Avg_Flight_Distance\")\n",
    ").orderBy(\"Avg_Flight_Distance\", ascending=False)\n",
    "avg_distance.show()\n",
    "\n",
    "# Step 8: Flight count per origin airport\n",
    "flights_by_origin = df.groupBy(\"Origin Airport\").count().orderBy(\"count\", ascending=False)\n",
    "flights_by_origin.show(10)\n",
    "\n",
    "# Step 9: Summary\n",
    "print(\"✅ Analysis Complete\")\n",
    "\n",
    "# Step 10: Stop Spark Session\n",
    "spark.stop()\n"
   ]
  }
 ],
 "metadata": {
  "kernelspec": {
   "display_name": "PYSPARK_KERNEL",
   "language": "python",
   "name": "pyspark_kernel"
  },
  "language_info": {
   "codemirror_mode": {
    "name": "ipython",
    "version": 3
   },
   "file_extension": ".py",
   "mimetype": "text/x-python",
   "name": "python",
   "nbconvert_exporter": "python",
   "pygments_lexer": "ipython3",
   "version": "3.13.5"
  }
 },
 "nbformat": 4,
 "nbformat_minor": 5
}
