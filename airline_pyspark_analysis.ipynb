{
 "cells": [
  {
   "cell_type": "code",
   "execution_count": null,
   "id": "d65f09b3-1c7c-4a26-abff-cf7dd451ac4e",
   "metadata": {},
   "outputs": [],
   "source": [
    "# Import required PySpark modules\n",
    "from pyspark.sql import SparkSession\n",
    "from pyspark.sql.functions import col, count, sum, avg\n",
    "\n",
    "# Start Spark session\n",
    "spark = SparkSession.builder.appName(\"Airline Passenger Satisfaction\").getOrCreate()\n",
    "\n",
    "# Load CSV file (make sure the file is in the same folder)\n",
    "df = spark.read.option(\"header\", True).option(\"inferSchema\", True).csv(\"airline_passenger_satisfaction.csv\")\n",
    "\n",
    "# Show schema and sample data\n",
    "df.printSchema()\n",
    "df.show(5)\n",
    "\n",
    "# 1. Total flights per airline\n",
    "flights_per_airline = df.groupBy(\"Airline Name\").count().orderBy(\"count\", ascending=False)\n",
    "print(\"Total Flights per Airline:\")\n",
    "flights_per_airline.show()\n",
    "\n",
    "# 2. Average departure delay per airline\n",
    "avg_dep_delay = df.groupBy(\"Airline Name\").avg(\"Departure Delay in Minutes\").orderBy(\"avg(Departure Delay in Minutes)\")\n",
    "print(\"Average Departure Delay (minutes) per Airline:\")\n",
    "avg_dep_delay.show()\n",
    "\n",
    "# 3. Cancellation rate per airline\n",
    "cancellation_rate = df.groupBy(\"Airline Name\").agg(\n",
    "    count(\"*\").alias(\"Total Flights\"),\n",
    "    sum((col(\"Flight cancelled\") == \"Yes\").cast(\"int\")).alias(\"Cancelled Flights\")\n",
    ").withColumn(\"Cancellation Rate (%)\", (col(\"Cancelled Flights\") / col(\"Total Flights\")) * 100)\n",
    "\n",
    "print(\"Cancellation Rate by Airline:\")\n",
    "cancellation_rate.orderBy(\"Cancellation Rate (%)\", ascending=False).show()\n",
    "\n",
    "# 4. Average flight distance per airline\n",
    "avg_distance = df.groupBy(\"Airline Name\").avg(\"Flight Distance\").orderBy(\"avg(Flight Distance)\", ascending=False)\n",
    "print(\"Average Flight Distance per Airline:\")\n",
    "avg_distance.show()\n",
    "\n",
    "# 5. Flights per origin airport\n",
    "flights_by_origin = df.groupBy(\"Origin Airport\").count().orderBy(\"count\", ascending=False)\n",
    "print(\"Flights per Origin Airport:\")\n",
    "flights_by_origin.show(10)\n",
    "\n",
    "# Stop Spark\n",
    "spark.stop()\n"
   ]
  }
 ],
 "metadata": {
  "kernelspec": {
   "display_name": "PYSPARK_KERNEL",
   "language": "python",
   "name": "pyspark_kernel"
  },
  "language_info": {
   "codemirror_mode": {
    "name": "ipython",
    "version": 3
   },
   "file_extension": ".py",
   "mimetype": "text/x-python",
   "name": "python",
   "nbconvert_exporter": "python",
   "pygments_lexer": "ipython3",
   "version": "3.13.5"
  }
 },
 "nbformat": 4,
 "nbformat_minor": 5
}
